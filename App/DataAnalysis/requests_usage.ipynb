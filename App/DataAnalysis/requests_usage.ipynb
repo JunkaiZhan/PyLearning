{
 "nbformat": 4,
 "nbformat_minor": 2,
 "metadata": {
  "language_info": {
   "name": "python",
   "codemirror_mode": {
    "name": "ipython",
    "version": 3
   },
   "version": "3.7.4"
  },
  "orig_nbformat": 2,
  "file_extension": ".py",
  "mimetype": "text/x-python",
  "name": "python",
  "npconvert_exporter": "python",
  "pygments_lexer": "ipython3",
  "version": 3
 },
 "cells": [
  {
   "cell_type": "code",
   "metadata": {},
   "outputs": [],
   "source": [
    "# 使用requests可以更方便的处理Cookies，代理设置和登录验证等操作\n",
    "# 之前使用urllib可是实现，但是操作起来相对会比较麻烦，需要先构造数据结构，实例化句柄，在创建opener\n",
    "\n",
    "import requests\n",
    "\n",
    "# 在urllib中，要制定请求类型需要实例化Reuqest对象，并在其参数中指定\n",
    "# 而在requests库中，可以直接使用不同的请求函数\n",
    "resp = requests.get(\"http://www.baidu.com\")\n",
    "print(\"Type of resp >>> \", type(resp))\n",
    "print(\"Type of resp.text >>> \", type(resp.text))\n",
    "print(\"Type of resp.cookies >>> \", type(resp.cookies))\n",
    "print(\"resp.status_code >>>\", resp.status_code)\n",
    "print(\"resp.text >>> \\n\", resp.text)\n",
    "print(\"resp.cookies >>> \\n\", resp.cookies)\n",
    "\n",
    "resp = requests.post(\"http://httpbin.org/post\")\n",
    "resp = requests.put(\"http://httpbin.org/put\")\n",
    "resp = requests.delete(\"http://httpbin.org/delete\")\n",
    "resp = requests.head(\"http://httpbin.org/head\")\n",
    "resp = requests.options(\"http://httpbin.org/options\")\n"
   ]
  },
  {
   "cell_type": "code",
   "metadata": {},
   "outputs": [],
   "source": [
    "\n",
    "# GET的使用 ----------------------------------------------------------------------\n",
    "\n",
    "import requests\n",
    "import re\n",
    "\n",
    "# Just get\n",
    "r = requests.get('http://httpbin.org/get')\n",
    "print(r.text)\n",
    "\n",
    "# Add parameters\n",
    "data = {\"name\": \"HelloWorld\", \"age\": \"18\"}\n",
    "r = requests.get('http://httpbin.org/get', params = data)\n",
    "print(r.text)\n",
    "\n",
    "# Covert the response text from json to dict\n",
    "print(\"Type of r.text >>> \", type(r.text))\n",
    "print(\"Type of r.json >>> \", type(r.json()))\n",
    "print(\"r.json >>> \\n\", r.json())"
   ]
  },
  {
   "cell_type": "code",
   "metadata": {},
   "outputs": [],
   "source": [
    "\n",
    "import requests\n",
    "import re\n",
    "\n",
    "# Add header to get a page\n",
    "headers = {\n",
    "    'User-Agent': 'Mozilla/5.0 (Windows NT 10.0; Win64; x64) AppleWebKit/537.36 (KHTML, like Gecko) Chrome/78.0.3904.108 Safari/537.36'\n",
    "}\n",
    "r = requests.get(\"https://www.zhihu.com/explore\", headers = headers)\n",
    "print(r.text)\n",
    "pattern = re.compile('explore-feed.*?question_link.*?>(.*?)</a>', re.S)\n",
    "titles  = re.findall(pattern, r.text)\n",
    "\n",
    "for _ in titles: print(_)"
   ]
  },
  {
   "cell_type": "code",
   "metadata": {},
   "outputs": [],
   "source": [
    "\n",
    "import requests\n",
    "\n",
    "# Save the content into file in specified type\n",
    "r = requests.get(\"https://github.com/favicon.ico\")\n",
    "print(\"r.text >>> \", r.text)\n",
    "print(\"r.content >>> \", r.content)\n",
    "with open('favicon.ico', 'wb') as f:\n",
    "    f.write(r.content)"
   ]
  },
  {
   "cell_type": "code",
   "metadata": {},
   "outputs": [],
   "source": [
    "\n",
    "# POST的使用 ---------------------------------------------------------------------------\n",
    "\n",
    "import requests\n",
    "\n",
    "data = {'name': 'HelloWorld', 'age': '18'}\n",
    "r = requests.post('http://httpbin.org/post', data = data)\n",
    "print(r.text)"
   ]
  },
  {
   "cell_type": "code",
   "metadata": {},
   "outputs": [],
   "source": [
    "\n",
    "# 解析一下响应 -------------------------------------------------------------------------\n",
    "\n",
    "import requests\n",
    "\n",
    "r = requests.get('http://www.jianshu.com')\n",
    "exit() if not r.status_code == requests.codes.ok else print(\"Request Successfully!\")\n",
    "\n",
    "print(type(r.status_code), r.status_code)\n",
    "print(type(r.headers), r.headers)\n",
    "print(type(r.cookies), r.cookies)\n",
    "print(type(r.url), r.url)\n",
    "print(type(r.history), r.history)"
   ]
  },
  {
   "cell_type": "code",
   "execution_count": 1,
   "metadata": {},
   "outputs": [
    {
     "name": "stdout",
     "output_type": "stream",
     "text": "辞遍唱阳春\\u003C\\u002Fp\\u003E\\u003Cp class=\\\"ztext-empty-paragraph\\\"\\u003E\\u003Cbr\\u002F\\u003E\\u003C\\u002Fp\\u003E\\u003Cp\\u003E\\u003Cb\\u003E以上是评论区里，个人比较喜欢的几句，整理到一起，希望大家喜欢 \\u003C\\u002Fb\\u003E\\u003C\\u002Fp\\u003E\\u003Cp\\u003E\\u003Cb\\u003E2019.8.30\\u003C\\u002Fb\\u003E\\u003C\\u002Fp\\u003E\\u003Chr\\u002F\\u003E\\u003Ch2\\u003E2019.9.11\\u003C\\u002Fh2\\u003E\\u003Cp\\u003E51、原文：只有你在我身边，我才会开心\\u003C\\u002Fp\\u003E\\u003Cp\\u003E古文：蝶来风有致，人去月无聊\\u003C\\u002Fp\\u003E\\u003Cp\\u003E52、原文：爱情是场患得患失的戏\\u003C\\u002Fp\\u003E\\u003Cp\\u003E古风文：风月入我相思局，怎堪相思未相许\\u003C\\u002Fp\\u003E\\u003Cp\\u003E53、原文：纸短情长\\u003C\\u002Fp\\u003E\\u003Cp\\u003E古文：休言半纸无多重，万斛离愁尽耐担\\u003C\\u002Fp\\u003E\\u003Cp\\u003E54、原文：没人心疼我\\u003C\\u002Fp\\u003E\\u003Cp\\u003E古文：花飞花谢花满天，红消香断有谁怜\\u003C\\u002Fp\\u003E\\u003Cp\\u003E55、原文：温柔的你是我的最爱\\u003C\\u002Fp\\u003E\\u003Cp\\u003E古风文：二斤桃花酿做酒，万杯不及你温柔\\u003C\\u002Fp\\u003E\\u003Cp\\u003E56、原文：过去已然过去，珍惜眼前人吧\\u003C\\u002Fp\\u003E\\u003Cp\\u003E古文：还将旧来意，怜取眼前人\\u003C\\u002Fp\\u003E\\u003Cp\\u003E57、原文：没有了你，我真的会疯掉\\u003C\\u002Fp\\u003E\\u003Cp\\u003E古文：直道相思了无益，未妨惆怅是清狂\\u003C\\u002Fp\\u003E\\u003Cp\\u003E58、原文：真想再见你一面\\u003C\\u002Fp\\u003E\\u003Cp\\u003E古文：相思相见知何日，此时此夜难为情\\u003C\\u002Fp\\u003E\\u003Cp\\u003E59、原文：只剩下我一个人了\\u003C\\u002Fp\\u003E\\u003Cp\\u003E古文：梧桐半死清霜后，头白鸳鸯失伴飞\\u003C\\u002Fp\\u003E\\u003Cp\\u003E60、原文：我等你\\u003C\\u002Fp\\u003E\\u003Cp\\u003E古风文：静待一树花开，盼你叶落归来\\u003C\\u002Fp\\u003E\\u003Cp class=\\\"ztext-empty-paragraph\\\"\\u003E\\u003Cbr\\u002F\\u003E\\u003C\\u002Fp\\u003E\\u003Chr\\u002F\\u003E\\u003Ch2\\u003E2019-9-26\\u003C\\u002Fh2\\u003E\\u003Cp\\u003E61、原文：我好喜欢你\\u003C\\u002Fp\\u003E\\u003Cp\\u003E古文：愿我如星君如月，夜夜流光相皎洁\\u003C\\u002Fp\\u003E\\u003Cp\\u003E62、原文：我每时每刻都在想你\\u003C\\u002Fp\\u003E\\u003Cp\\u003E古文：长相思兮长相忆，短相思兮无穷极\\u003C\\u002Fp\\u003E\\u003Cp\\u003E63、原文：喜欢就去追，错过了会很可惜\\u003C\\u002Fp\\u003E\\u003Cp\\u003E古文：花开堪折直须折，莫待无花空折枝\\u003C\\u002Fp\\u003E\\u003Cp\\u003E64、原文：你很好，是我配不上你\\u003C\\u002Fp\\u003E\\u003Cp\\u003E古文：感郎千金意，惭无倾城色\\u003C\\u002Fp\\u003E\\u003Cp\\u003E65、原文：你好漂亮\\u003C\\u002Fp\\u003E\\u003Cp\\u003E古文：回眸一笑百媚生，六宫粉黛无颜色\\u003C\\u002Fp\\u003E\\u003Cp\\u003E66、原文：想告诉你我很想你\\u003C\\u002Fp\\u003E\\u003Cp\\u003E古风文：锦书难托思君意，笔下付尽心中情\\u003C\\u002Fp\\u003E\\u003Cp\\u003E67、原文：一旦错过就是永远\\u003C\\u002Fp\\u003E\\u003Cp\\u003E古风文：笙歌不见故人散，十里长欢难再寻\\u003C\\u002Fp\\u003E\\u003Cp\\u003E68、原文：爱而不得\\u003C\\u002Fp\\u003E\\u003Cp\\u003E古风文：青涩不及当初，聚散不由你我\\u003C\\u002Fp\\u003E\\u003Cp\\u003E69、原文：爱上却又无法在一起\\u003C\\u002Fp\\u003E\\u003Cp\\u003E古文：但曾相见便相知，相见何如不见时\\u003C\\u002Fp\\u003E\\u003Cp\\u003E70、原文：我的心永远不会变\\u003C\\u002Fp\\u003E\\u003Cp\\u003E古文：山无陵，江水为竭，冬雷震震，夏雨雪，天地合，乃敢与君绝\\u003C\\u002Fp\\u003E\\u003Cp class=\\\"ztext-empty-paragraph\\\"\\u003E\\u003Cbr\\u002F\\u003E\\u003C\\u002Fp\\u003E\\u003Chr\\u002F\\u003E\\u003Ch2\\u003E2019－10－15\\u003C\\u002Fh2\\u003E\\u003Cp\\u003E\\u003Cb\\u003E71、\\u003C\\u002Fb\\u003E原文:我爱你，却再也见不到你\\u003C\\u002Fp\\u003E\\u003Cp\\u003E古文:要见无因见，拚了终难拚，若是前生未有缘，待重结、来生愿。\\u003C\\u002Fp\\u003E\\u003Cp\\u003E——乐婉《卜算子·答施》\\u003C\\u002Fp\\u003E\\u003Cp\\u003E\\u003Cb\\u003E72、\\u003C\\u002Fb\\u003E原文:再也没有人待我如你\\u003C\\u002Fp\\u003E\\u003Cp\\u003E古文:识尽千千万万人，终不似、伊家好。\\u003C\\u002Fp\\u003E\\u003Cp\\u003E——施酒监《卜算子·赠乐婉杭妓》\\u003C\\u002Fp\\u003E\\u003Cp\\u003E\\u003Cb\\u003E73、\\u003C\\u002Fb\\u003E原文:在错的时间，遇上对的人\\u003C\\u002Fp\\u003E\\u003Cp\\u003E古文:君生我未生，我生君已老。\\u003C\\u002Fp\\u003E\\u003Cp\\u003E——《铜官窑瓷器题诗\\u003Cb\\u003E》\\u003C\\u002Fb\\u003E\\u003C\\u002Fp\\u003E\\u003Cp\\u003E\\u003Cb\\u003E74、\\u003C\\u002Fb\\u003E原文:相思而不能相见\\u003C\\u002Fp\\u003E\\u003Cp\\u003E古文:心如莲子常含苦，愁似春蚕未断丝。\\u003C\\u002Fp\\u003E\\u003Cp\\u003E——黄景仁《秋夕》\\u003C\\u002Fp\\u003E\\u003Cp\\u003E\\u003Cb\\u003E75、\\u003C\\u002Fb\\u003E原文:你是我年少时的欢喜\\u003C\\u002Fp\\u003E\\u003Cp\\u003E古文:郎骑竹马来，绕床弄青梅。同居长干里，两小无嫌猜。\\u003C\\u002Fp\\u003E\\u003Cp\\u003E——李白《长干行》\\u003C\\u002Fp\\u003E\\u003Cp\\u003E\\u003Cb\\u003E76、\\u003C\\u002Fb\\u003E原文:刚好遇见你\\u003C\\u002Fp\\u003E\\u003Cp\\u003E古文:春日游，杏花吹满头。陌上谁家年少，足风流。\\u003C\\u002Fp\\u003E\\u003Cp\\u003E——韦庄《思帝乡》\\u003C\\u002Fp\\u003E\\u003Cp\\u003E\\u003Cb\\u003E77、\\u003C\\u002Fb\\u003E原文:一个人走夜路的时候，最孤单\\u003C\\u002Fp\\u003E\\u003Cp\\u003E古文:鸡声茅店月，人迹板桥霜。\\u003C\\u002Fp\\u003E\\u003Cp\\u003E——温庭筠《商山早行》\\u003C\\u002Fp\\u003E\\u003Cp\\u003E\\u003Cb\\u003E78、\\u003C\\u002Fb\\u003E原文:如果能回到当初那该多好\\u003C\\u002Fp\\u003E\\u003Cp\\u003E古文:人生若只如初见，何事秋风悲画扇。\\u003C\\u002Fp\\u003E\\u003Cp\\u003E——纳兰性德《木兰花令·拟古决绝词谏友》\\u003C\\u002Fp\\u003E\\u003Cp\\u003E\\u003Cb\\u003E79、\\u003C\\u002Fb\\u003E原文:时间终究会磨平一切，不管你愿不愿意\\u003C\\u002Fp\\u003E\\u003Cp\\u003E古文:古今多少事，渔唱起三更。\\u003C\\u002Fp\\u003E\\u003Cp\\u003E——陈与义《临江仙·夜登小阁忆洛中旧游》\\u003C\\u002Fp\\u003E\\u003Cp\\u003E\\u003Cb\\u003E80、\\u003C\\u002Fb\\u003E原文:很多东西我们已经回不去也无法重来\\u003C\\u002Fp\\u003E\\u003Cp\\u003E古文:物是人非事事休，欲语泪先流。\\u003C\\u002Fp\\u003E\\u003Cp\\u003E——李清照《武陵春·晚春》\\u003C\\u002Fp\\u003E\\u003Cp\\u003E\\u003Cb\\u003E81、\\u003C\\u002Fb\\u003E原文:我放下过天地，却从未放下过你\\u003C\\u002Fp\\u003E\\u003Cp\\u003E古文:曾经沧海难为水，除却巫山不是云。\\u003C\\u002Fp\\u003E\\u003Cp\\u003E——元稹《离思》\\u003C\\u002Fp\\u003E\\u003Cp\\u003E\\u003Cb\\u003E82、\\u003C\\u002Fb\\u003E原文:我想和你在一起\\u003C\\u002Fp\\u003E\\u003Cp\\u003E古文:我欲与君相知，长命无绝衰。\\u003C\\u002Fp\\u003E\\u003Cp\\u003E——《上邪》\\u003C\\u002Fp\\u003E\\u003Cp\\u003E\\u003Cb\\u003E83、\\u003C\\u002Fb\\u003E原文:有些人，再也找不回来了\\u003C\\u002Fp\\u003E\\u003Cp\\u003E古文:伤心桥下春波绿，曾是惊鸿照影来。\\u003C\\u002Fp\\u003E\\u003Cp\\u003E——陆游《沈园》\\u003C\\u002Fp\\u003E\\u003Cp\\u003E\\u003Cb\\u003E84、\\u003C\\u002Fb\\u003E原文:珍惜眼前人\\u003C\\u002Fp\\u003E\\u003Cp\\u003E古文:满目山河空念远，落花风雨更伤春，\\u003C\\u002Fp\\u003E\\u003Cp\\u003E不如怜取眼前人。\\u003C\\u002Fp\\u003E\\u003Cp\\u003E——晏殊《浣溪沙》\\u003C\\u002Fp\\u003E\\u003Cp\\u003E\\u003Cb\\u003E85、\\u003C\\u002Fb\\u003E原文:我在等风，也等你\\u003C\\u002Fp\\u003E\\u003Cp\\u003E古文:却下水晶帘，玲珑望秋月。\\u003C\\u002Fp\\u003E\\u003Cp\\u003E——李白《玉阶怨》\\u003C\\u002Fp\\u003E\\u003Cp\\u003E\\u003Cb\\u003E86、\\u003C\\u002Fb\\u003E原文:我喜欢的人啊，他在很远的地方\\u003C\\u002Fp\\u003E\\u003Cp\\u003E古文:我有所念人，隔在远远乡。\\u003C\\u002Fp\\u003E\\u003Cp\\u003E——白居易《夜雨》\\u003C\\u002Fp\\u003E\\u003Cp\\u003E\\u003Cb\\u003E87、\\u003C\\u002Fb\\u003E原文:我无时无刻不在想你\\u003C\\u002Fp\\u003E\\u003Cp\\u003E古文:晓看天色暮看云，行也思君，坐也思君。\\u003C\\u002Fp\\u003E\\u003Cp\\u003E——\\u003Ca href=\\\"https:\\u002F\\u002Flink.zhihu.com\\u002F?target=https%3A\\u002F\\u002Fm.gushiwen.org\\u002Fauthorv_bdbd5be2bd0b.aspx\\\" class=\\\" wrap external\\\" target=\\\"_blank\\\" rel=\\\"nofollow noreferrer\\\"\\u003E唐寅\\u003C\\u002Fa\\u003E《\\u003Ca href=\\\"https:\\u002F\\u002Flink.zhihu.com\\u002F?target=https%3A\\u002F\\u002Fm.gushiwen.org\\u002Fshiwenv_826758a2d666.aspx\\\" class=\\\" wrap external\\\" target=\\\"_blank\\\" rel=\\\"nofollow noreferrer\\\"\\u003E一剪梅·雨打梨花深闭门\\u003C\\u002Fa\\u003E》\\u003C\\u002Fp\\u003E\\u003Cp\\u003E\\u003Cb\\u003E88、\\u003C\\u002Fb\\u003E原文:我喜欢的人却不喜欢我\\u003C\\u002Fp\\u003E\\u003Cp\\u003E古风文:我心向山，君心向水\\u003C\\u002Fp\\u003E\\u003Cp\\u003E\\u003Cb\\u003E89、\\u003C\\u002Fb\\u003E原文:我选择退出了\\u003C\\u002Fp\\u003E\\u003Cp\\u003E古风文:苦酒折柳今相离，无风无月也无你\\u003C\\u002Fp\\u003E\\u003Cp\\u003E\\u003Cb\\u003E90、\\u003C\\u002Fb\\u003E原文:你会找到更好的\\u003C\\u002Fp\\u003E\\u003Cp\\u003E古风文:终有弱水替沧海，再无相思寄巫山\\u003C\\u002Fp\\u003E\\u003Cp class=\\\"ztext-empty-paragraph\\\"\\u003E\\u003Cbr\\u002F\\u003E\\u003C\\u002Fp\\u003E\\u003Cp\\u003E●昨天看到这个话题下挺多新的朋友回答，刚好今天早上看到的不少很美的古文，第一时间就想到来更新了，这次应评论区不少朋友的建议，标明古文出处，其实之前标古文的也都是有出处的，只是写太多排版不太美观，这次更新20句，之后也不知道几时再更新了，喜欢的朋友记得收藏喔!点不点赞一回事，收藏再看的时候更方便一些。\\u003C\\u002Fp\\u003E\\u003Cp class=\\\"ztext-empty-paragraph\\\"\\u003E\\u003Cbr\\u002F\\u003E\\u003C\\u002Fp\\u003E\\u003Chr\\u002F\\u003E\\u003Ch2\\u003E\\u003Cb\\u003E以下并非本话题作答\\u003C\\u002Fb\\u003E\\u003C\\u002Fh2\\u003E\\u003Cp\\u003E\\u003Cb\\u003E曾听说，你某夜结婚，未曾露笑容，实在不敢知道我是元凶\\u003C\\u002Fb\\u003E\\u003C\\u002Fp\\u003E\\u003Cp\\u003E\\u003Cb\\u003E                                                         ——《于心有愧》陈奕迅\\u003C\\u002Fb\\u003E\\u003C\\u002Fp\\u003E\\u003Cp\\u003E\\u003Cb\\u003E——梦醒不见你\\u003C\\u002Fb\\u003E\\u003C\\u002Fp\\u003E\\u003Cp\\u003E何为思念： 林深，雾起，不见路\\u003C\\u002Fp\\u003E\\u003Cp\\u003E可否具体： 深海，浪起，不见鲸\\u003C\\u002Fp\\u003E\\u003Cp\\u003E可否再具体：梦醒不见你\\u003C\\u002Fp\\u003E\\u003Cp\\u003E\\u003Cb\\u003E—— 一切皆是你\\u003C\\u002Fb\\u003E\\u003C\\u002Fp\\u003E\\u003Cp\\u003E何为牵挂：高山、流水，不曾喜\\u003C\\u002Fp\\u003E\\u003Cp\\u003E可否具体：朝霞、落日，淡如水\\u003C\\u002Fp\\u003E\\u003Cp\\u003E可否再具体：一切皆是你\\u003C\\u002Fp\\u003E\\u003Cp\\u003E\\u003Cb\\u003E——往后余生，再无你\\u003C\\u002Fb\\u003E\\u003C\\u002Fp\\u003E\\u003Cp\\u003E何为遗憾：错过，迟到，来不及\\u003C\\u002Fp\\u003E\\u003Cp\\u003E可否具体：我来你走，谈笑风生不谈爱情\\u003C\\u002Fp\\u003E\\u003Cp\\u003E可否再具体：往后余生，再无你\\u003C\\u002Fp\\u003E\\u003Cp\\u003E\\u003Cb\\u003E——遇见你\\u003C\\u002Fb\\u003E\\u003C\\u002Fp\\u003E\\u003Cp\\u003E何为心动：风动，云涌，鸟惊起\\u003C\\u002Fp\\u003E\\u003Cp\\u003E可否具体：转眼回眸余光里\\u003C\\u002Fp\\u003E\\u003Cp\\u003E可否再具体：遇见你\\u003C\\u002Fp\\u003E\\u003Cp\\u003E\\u003Cb\\u003E——从此再无你\\u003C\\u002Fb\\u003E\\u003C\\u002Fp\\u003E\\u003Cp\\u003E何为失望：不哭不闹不言语\\u003C\\u002Fp\\u003E\\u003Cp\\u003E可否具体：不盼不望不可期\\u003C\\u002Fp\\u003E\\u003Cp\\u003E可否再具体：从此再无你\\u003C\\u002Fp\\u003E\\u003Cp\\u003E\\u003Cb\\u003E——万物皆是你\\u003C\\u002Fb\\u003E\\u003C\\u002Fp\\u003E\\u003Cp\\u003E何为想念：日月、星辰、狂野雨落\\u003C\\u002Fp\\u003E\\u003Cp\\u003E可否具体：山川、江流、烟霞湖泊\\u003C\\u002Fp\\u003E\\u003Cp\\u003E可否再具体：万物是你，无可躲\\u003C\\u002Fp\\u003E\\u003Cp\\u003E\\u003Cb\\u003E——携子之手，与子偕老\\u003C\\u002Fb\\u003E\\u003C\\u002Fp\\u003E\\u003Cp\\u003E何为伴侣：柴米、油烟、应具有\\u003C\\u002Fp\\u003E\\u003Cp\\u003E可否具体：粗茶淡饭，不觉苦\\u003C\\u002Fp\\u003E\\u003Cp\\u003E可否再具体：携子之手，与子偕老\\u003C\\u002Fp\\u003E\\u003Cp\\u003E\\u003Cb\\u003E——祝大家七夕节快乐！有情人终成眷属！\\u003C\\u002Fb\\u003E\\u003C\\u002Fp\\u003E\",\"mark_infos\":[],\"relationship\":{\"is_thanked\":false,\"is_nothelp\":false,\"voting\":0,\"upvoted_followee_ids\":[]},\"is_labeled\":false,\"visited_count\":2394711},\"brief\":\"{\\\"source\\\": \\\"TS\\\", \\\"type\\\": \\\"answer\\\", \\\"id\\\": 773808957}\",\"uninterest_reasons\":[{\"reason_id\":3,\"reason_type\":\"topic\",\"object_token\":\"19589437\",\"object_type\":\"topic\",\"reason_text\":\"古诗词\"},{\"reason_id\":3,\"reason_type\":\"topic\",\"object_token\":\"19584849\",\"object_type\":\"topic\",\"reason_text\":\"古诗\"},{\"reason_id\":3,\"reason_type\":\"topic\",\"object_token\":\"19619620\",\"object_type\":\"topic\",\"reason_text\":\"古代\"},{\"reason_id\":3,\"reason_type\":\"topic\",\"object_token\":\"19565456\",\"object_type\":\"topic\",\"reason_text\":\"诗词\"},{\"reason_id\":2,\"reason_type\":\"creator\",\"object_token\":\"455e4ae0a7edf4fa8c4c1d3f2befaf1d\",\"object_type\":\"people\",\"reason_text\":\"候鸟树创作的内容\"}],\"attached_info\":\"CsEBCOGb7aDp\\u002F5jTHRAEGgkxNzA3NjA1NDkgy+2V6gUo7aMEMIYOQARKDgoFVVNDTDMSATAYACAAUhx1c2VyY2ZfY2x1c3Rlcl92M19hZGRfYW5zd2VyWggzMDYxOTg1OXIJNzczODA4OTU3eFyKAQkzMDc1NDQwODeqAQlyZWNvbW1lbmTyATsIABI3cnc6MzIuMDtpc286NjAuMDtiaTowLjA7cnVsZXM6SGlnaEludGVyYWN0aXZlV2VpZ2h0UnVsZQ==\",\"actors\":[{\"id\":\"19565456\",\"type\":\"topic\",\"url\":\"https:\\u002F\\u002Fapi.zhihu.com\\u002Ftopics\\u002F19565456\",\"avatar_url\":\"https:\\u002F\\u002Fpic3.zhimg.com\\u002F50\\u002Fdedb6956faa626e3fec5fbbb369c6149_s.jpg\",\"name\":\"诗词\",\"excerpt\":\"\",\"introduction\":\"\"}],\"show_actor_time\":false,\"action_text\":\"诗词\",\"action_text_tpl\":\"热门内容, 来自: {}\",\"action_card\":false},{\"id\":\"5_1576340380.698\",\"type\":\"feed\",\"offset\":5,\"verb\":\"TOPIC_ACKNOWLEDGED_ANSWER\",\"created_time\":1576340380,\"updated_time\":1576340380,\"target\":{\"id\":932962299,\"type\":\"answer\",\"url\":\"https:\\u002F\\u002Fapi.zhihu.com\\u002Fanswers\\u002F932962299\",\"author\":{\"id\":\"a24d6e757832a354340a1693a10dec8f\",\"type\":\"people\",\"url\":\"https:\\u002F\\u002Fapi.zhihu.com\\u002Fpeople\\u002Fa24d6e757832a354340a1693a10dec8f\",\"user_type\":\"people\",\"url_token\":\"zjuguxi\",\"name\":\"谷溪\",\"headline\":\"码农\\u002F运营\\u002F吉他手【公众号：古老湿】\",\"avatar_url\":\"https:\\u002F\\u002Fpic2.zhimg.com\\u002F50\\u002F9ffe930bf_m.jpg\",\"is_org\":false,\"gender\":1,\"badge\":[],\"followers_count\":10908,\"is_following\":false,\"is_followed\":false},\"created_time\":1576146400,\"updated_time\":1576150102,\"voteup_count\":1594,\"thanks_count\":342,\"comment_count\":49,\"is_copyable\":false,\"question\":{\"id\":356351510,\"type\":\"question\",\"url\":\"https:\\u002F\\u002Fapi.zhihu.com\\u002Fquestions\\u002F356351510\",\"author\":{\"id\":\"ef5e9f0509b96b9c3a1563aeae7cba7e\",\"type\":\"people\",\"url\":\"https:\\u002F\\u002Fapi.zhihu.com\\u002Fpeople\\u002Fef5e9f0509b96b9c3a1563aeae7cba7e\",\"user_type\":\"people\",\"url_token\":\"y-z-x-49\",\"name\":\"浅浮\",\"headline\":\"要可爱，要长大，要不负众望\",\"avatar_url\":\"https:\\u002F\\u002Fpic4.zhimg.com\\u002F50\\u002Fv2-ee7a97608fc9279ede88e2df09313f37_m.jpg\",\"is_org\":false,\"gender\":0,\"badge\":[],\"followers_count\":445,\"is_following\":false,\"is_followed\":false},\"title\":\"你的编程能力从什么时候开始突飞猛进？\",\"created\":1574000909,\"answer_count\":362,\"follower_count\":17613,\"comment_count\":12,\"bound_topic_ids\":[707,1354,20726,30960],\"is_following\":false,\"excerpt\":\"\",\"relationship\":{\"is_author\":false},\"detail\":\"\",\"question_type\":\"normal\"},\"thumbnail\":\"\",\"excerpt\":\"在我的码农生涯中，一共有2个节点，感到自己有一种技术上「突飞猛进」的感觉。 第一个节点，发生在我写了一年代码的时候。触发点是读了两本书。那时候刚刚转行一年，熟悉了同事，大致理解了公司产品的技术栈，知道整个流程是什么样的。按我现在的角度来看，当年的水平也就是个过得去的实习生（然而当时已经全职了…）。 我全心全意地想提高技术水平，然而总不得要领，也反思为什么自己对于技术的理解深度和同事们有那么大的差…\",\"excerpt_new\":\"在我的码农生涯中，一共有2个节点，感到自己有一种技术上「突飞猛进」的感觉。 第一个节点，发生在我写了一年代码的时候。触发点是读了两本书。那时候刚刚转行一年，熟悉了同事，大致理解了公司产品的技术栈，知道整个流程是什么样的。按我现在的角度来看，当年的水平也就是个过得去的实习生（然而当时已经全职了…）。 我全心全意地想提高技术水平，然而总不得要领，也反思为什么自己对于技术的理解深度和同事们有那么大的差…\",\"preview_type\":\"default\",\"preview_text\":\"\",\"reshipment_settings\":\"disallowed\",\"content\":\"\\u003Cp\\u003E在我的码农生涯中，一共有2个节点，感到自己有一种技术上「突飞猛进」的感觉。\\u003C\\u002Fp\\u003E\\u003Ch2\\u003E第一个节点，发生在我写了一年代码的时候。触发点是读了两本书。\\u003C\\u002Fh2\\u003E\\u003Cp\\u003E那时候刚刚转行一年，熟悉了同事，大致理解了公司产品的技术栈，知道整个流程是什么样的。按我现在的角度来看，当年的水平也就是个过得去的实习生（然而当时已经全职了……）。\\u003C\\u002Fp\\u003E\\u003Cp\\u003E我全心全意地想提高技术水平，然而总不得要领，也反思为什么自己对于技术的理解深度和同事们有那么大的差距。在熟悉了Python语法后，我所会的其实仅仅是将自然语言和逻辑翻译成代码，然而并不能从计算机的角度去理解代码执行的原理，当然更无从理解性能优化之类更深奥的事情。\\u003C\\u002Fp\\u003E\\u003Cp\\u003E那时候带我的数据工程师，手边经常放着一本《编写高质量代码:改善Python程序的91个建议》，我就有样学样买了一本，并且老老实实用上班的空隙时间+下班的休息时间，缓慢地啃完了整本书。再后来，觉得意犹未尽，又买了同系列的《Effective Python：编写高质量python代码的59个有效方法》，用同样的方法缓慢而持续的啃完。\\u003C\\u002Fp\\u003E\\u003Ca data-draft-node=\\\"block\\\" data-draft-type=\\\"mcn-link-card\\\" data-mcn-id=\\\"1188501837446471680\\\"\\u003E\\u003C\\u002Fa\\u003E\\u003Ca data-draft-node=\\\"block\\\" data-draft-type=\\\"mcn-link-card\\\" data-mcn-id=\\\"1188501523632803840\\\"\\u003E\\u003C\\u002Fa\\u003E\\u003Cp\\u003E这两本书讲了很多巧妙的方法，\\u003Cb\\u003E让我搞懂了同事代码中很多写法的具体原因和目的，同时自己的代码也在加持下变得更加简洁和规范起来。\\u003C\\u002Fb\\u003E从这时开始，我才开始学习代码之下潜藏的更多计算机原理，逐渐能够从计算机而非人类的角度去理解代码。\\u003C\\u002Fp\\u003E\\u003Cp\\u003E打个比方。\\u003Cb\\u003E算法、数据结构这些硬功夫像《九阴真经》，学会以后妙处无穷，耗时很长。上面这两本书比较像《九阴白骨爪》，可以速成，憾之深度有限。\\u003C\\u002Fb\\u003E但对于刚刚接触软件工程不久的人来说，通读这两本书，确实可以有功力大增的感觉。所以我强烈推荐，无论新老工程师，都要读一读这两本，起码要做一个 Pythonic 的程序员。\\u003C\\u002Fp\\u003E\\u003Ch2\\u003E第二个节点，是我第一次独力写完并维护公司产品的核心服务。\\u003C\\u002Fh2\\u003E\\u003Cp\\u003E有一天CTO突然把我和另一位前端负责人叫到一起开了个3人小会，讲了一下要写一个新的后端数据读写服务。这个服务非常核心，对性能和健壮性都有很高要求。\\u003C\\u002Fp\\u003E\\u003Cp\\u003E当时会议的情况我记忆至今：CTO和前端负责人你一言我一语地说着架构，我在旁边听天书，都是没见过的词。聊到最后，CTO问我一句，「你能听懂么？」\\u003C\\u002Fp\\u003E\\u003Cp\\u003E我像美剧《硅谷》里面的Dinesh一样……\\u003C\\u002Fp\\u003E\\u003Cfigure data-size=\\\"normal\\\"\\u003E\\u003Cimg src=\\\"https:\\u002F\\u002Fpic3.zhimg.com\\u002F50\\u002Fv2-939e5b5d2a88732d43f33a9a0ca4791f_hd.gif\\\" data-rawwidth=\\\"400\\\" data-rawheight=\\\"225\\\" data-size=\\\"normal\\\" data-thumbnail=\\\"https:\\u002F\\u002Fpic3.zhimg.com\\u002F50\\u002Fv2-939e5b5d2a88732d43f33a9a0ca4791f_hd.jpg\\\" class=\\\"content_image\\\" width=\\\"400\\\"\\u002F\\u003E\\u003Cfigcaption\\u003E我是右边那个……\\u003C\\u002Ffigcaption\\u003E\\u003C\\u002Ffigure\\u003E\\u003Cp\\u003E不过赶鸭子上架，用了大半年的时间写完并打磨这个组件，最后好歹完成了一个靠谱的东西（在早期还有另一个大牛同事帮我搭了脚手架，非常感激）。这也是我码农生涯中完成的最重要的东西。开发这个组件遇到无数知识盲点、踩了无数坑，数据库、运维监控、通讯协议、性能调优、单元测试……这些全折腾了一遍，感觉像读了个加速版CS本科。\\u003C\\u002Fp\\u003E\\u003Cp\\u003E做完这个项目，我的编程水平终于从一个实习生无限逼近于工业级了。回头看看，像做梦一样，居然这么熬着熬着就成为同事口中的「谷老师」了。\\u003Cb\\u003E有些事情，还真的要靠时间来打磨。\\u003C\\u002Fb\\u003E\\u003C\\u002Fp\\u003E\\u003Chr\\u002F\\u003E\\u003Cp\\u003E在毕业多年后开始学习写代码，让我理解了很多事情，不仅仅是计算机，也包括了「如何把事情做好」的方法。\\u003C\\u002Fp\\u003E\\u003Cp\\u003E「突飞猛进」往往是自然发生的。\\u003Cb\\u003E你在某个夜晚苦熬一个知识点时，不会觉得自己「突飞猛进」；只有在多年后某日熟练的给别人讲解这个知识点后，内心才会小小的波动一下，猛然忆起当年深夜中的青灯一盏。\\u003C\\u002Fb\\u003E\\u003C\\u002Fp\\u003E\\u003Cp\\u003E\\u003Cb\\u003E总结一下：用力地啃好书。专心地做好项目。剩下的，时间会帮你搞定。\\u003C\\u002Fb\\u003E\\u003C\\u002Fp\\u003E\",\"mark_infos\":[],\"relationship\":{\"is_thanked\":false,\"is_nothelp\":false,\"voting\":0,\"upvoted_followee_ids\":[]},\"is_labeled\":true,\"visited_count\":153376},\"brief\":\"{\\\"source\\\": \\\"TS\\\", \\\"type\\\": \\\"answer\\\", \\\"id\\\": 932962299}\",\"uninterest_reasons\":[{\"reason_id\":3,\"reason_type\":\"topic\",\"object_token\":\"19642932\",\"object_type\":\"topic\",\"reason_text\":\"自学编程\"},{\"reason_id\":3,\"reason_type\":\"topic\",\"object_token\":\"19554298\",\"object_type\":\"topic\",\"reason_text\":\"编程\"},{\"reason_id\":3,\"reason_type\":\"topic\",\"object_token\":\"19552330\",\"object_type\":\"topic\",\"reason_text\":\"程序员\"},{\"reason_id\":3,\"reason_type\":\"topic\",\"object_token\":\"19612231\",\"object_type\":\"topic\",\"reason_text\":\"编程入门\"},{\"reason_id\":2,\"reason_type\":\"creator\",\"object_token\":\"a24d6e757832a354340a1693a10dec8f\",\"object_type\":\"people\",\"reason_text\":\"谷溪创作的内容\"}],\"attached_info\":\"CsEECOGb7aDp\\u002F5jTHRAEGgkxOTk2OTY1NDIg4KvI7wUougwwMUAFSgoKAVASATAYACAASgwKAVQSAzcwNxgAIABSGXByb21vdGlvbl9idXNpbmVzc19hbnN3ZXJaCDQxNDY3MjUwcgk5MzI5NjIyOTl4CIoBCTM1NjM1MTUxMKoBCXJlY29tbWVuZPIBtQMIABKwA3J3OjEzLjA7aXNvOi03MS4wO2JpOjY5LjA7cnVsZXM6TWFudWFsVGFnV2VpZ2h0UnVsZSxHb29kU3R1ZmZSZWNvbW1lbmRXZWlnaHRSdWxlLFRhZ29yZUZpcnN0TGV2ZWxJc29sYXRpb25SdWxlLFRhZ29yZUZpcnN0TGV2ZWxJc29sYXRpb25SdWxlLFRhZ29yZUZpcnN0TGV2ZWxJc29sYXRpb25SdWxlLFRhZ29yZUZpcnN0TGV2ZWxJc29sYXRpb25SdWxlLFRhZ29yZVNlY29uZExldmVsSXNvbGF0aW9uUnVsZSxUYWdvcmVGaXJzdExldmVsSXNvbGF0aW9uUnVsZSxUYWdvcmVGaXJzdExldmVsSXNvbGF0aW9uUnVsZSxUYWdvcmVGaXJzdExldmVsSXNvbGF0aW9uUnVsZSxUYWdvcmVGaXJzdExldmVsSXNvbGF0aW9uUnVsZSxUYWdvcmVGaXJzdExldmVsSXNvbGF0aW9uUnVsZSxUYWdvcmVGaXJzdExldmVsSXNvbGF0aW9uUnVsZSxQcm9tb3Rpb25CcmVha0luUnVsZQ==\",\"actors\":[{\"id\":\"19552330\",\"type\":\"topic\",\"url\":\"https:\\u002F\\u002Fapi.zhihu.com\\u002Ftopics\\u002F19552330\",\"avatar_url\":\"https:\\u002F\\u002Fpic2.zhimg.com\\u002F50\\u002Facda162ad89c9b8995b51028d5233d1a_s.jpg\",\"name\":\"程序员\",\"excerpt\":\"\",\"introduction\":\"\"}],\"count\":1,\"show_actor_time\":false,\"action_text\":\"程序员\",\"action_text_tpl\":\"热门内容, 来自: {}\",\"action_card\":false}],\"paging\":{\"previous\":\"https:\\u002F\\u002Fwww.zhihu.com\\u002Fapi\\u002Fv3\\u002Ffeed\\u002Ftopstory\\u002Frecommend?session_token=8356ce73b1e33e32cfaff416f64c5401&desktop=true&page_number=2&limit=6&action=pull&before_id=5\",\"next\":\"https:\\u002F\\u002Fwww.zhihu.com\\u002Fapi\\u002Fv3\\u002Ffeed\\u002Ftopstory\\u002Frecommend?session_token=8356ce73b1e33e32cfaff416f64c5401&desktop=true&page_number=2&limit=6&action=down&after_id=5\",\"is_end\":false},\"fresh_text\":\"关注动态已更新\"}},\"follow\":{\"isFetching\":false,\"isDrained\":false,\"afterId\":0,\"items\":[],\"next\":null},\"followWonderful\":{\"isFetching\":false,\"isDrained\":false,\"afterId\":0,\"items\":[],\"next\":null},\"sidebar\":null,\"announcement\":{},\"hotListCategories\":[],\"hotList\":[],\"guestFeeds\":{\"isFetching\":false,\"isDrained\":false,\"afterId\":0,\"items\":[],\"next\":null},\"followExtra\":{\"isNewUser\":null,\"isFetched\":false,\"followCount\":0,\"followers\":[]}},\"upload\":{},\"video\":{\"data\":{},\"shareVideoDetail\":{},\"last\":{}},\"zvideos\":{\"tagoreCategory\":[],\"recommendations\":{}},\"guide\":{\"guide\":{\"isFetching\":false,\"isShowGuide\":false}},\"reward\":{\"answer\":{},\"article\":{},\"question\":{}},\"search\":{\"recommendSearch\":[],\"topSearch\":{},\"searchValue\":{},\"suggestSearch\":{},\"attachedInfo\":{},\"nextOffset\":{},\"topicReview\":{},\"generalByQuery\":{},\"generalByQueryInADay\":{},\"generalByQueryInAWeek\":{},\"generalByQueryInThreeMonths\":{},\"peopleByQuery\":{},\"topicByQuery\":{},\"columnByQuery\":{},\"liveByQuery\":{},\"albumByQuery\":{},\"eBookByQuery\":{}},\"publicEditPermission\":{},\"readStatus\":{},\"draftHistory\":{\"history\":{},\"drafts\":{}},\"notifications\":{\"recent\":{\"isFetching\":false,\"isDrained\":false,\"isPrevDrained\":false,\"result\":[],\"next\":null,\"key\":null},\"history\":{\"isFetching\":false,\"isDrained\":false,\"isPrevDrained\":false,\"result\":[],\"next\":null,\"key\":null},\"notificationActors\":{\"isFetching\":false,\"isDrained\":false,\"isPrevDrained\":false,\"result\":[],\"next\":null,\"key\":null},\"recentNotificationEntry\":\"all\"},\"specials\":{\"entities\":{},\"all\":{\"data\":[],\"paging\":{},\"isLoading\":false}},\"collections\":{\"hot\":{\"data\":[],\"paging\":{},\"isLoading\":false}},\"mcn\":{\"bindInfo\":{},\"memberCategoryList\":[],\"producerList\":[],\"categoryList\":[]},\"brand\":{\"contentPlugin\":{}},\"metaLink\":{\"metaLinkTemplate\":{}},\"host\":{\"roundtable\":{\"subjects\":{},\"applications\":{\"total\":0},\"online\":{\"total\":0},\"applies\":{},\"details\":{},\"includedResource\":{},\"hotQuestions\":{},\"batchInclude\":{}},\"special\":{\"applications\":{\"total\":0,\"pages\":{},\"entities\":{}},\"censorHistory\":{},\"drafts\":{}}},\"knowledgePlan\":{\"activityInfos\":{},\"activityStatuses\":{},\"premiumContents\":{},\"activityCreationList\":{},\"allCreationRankList\":{}},\"wallE\":{\"protectHistory\":{\"total\":0,\"pages\":{},\"entities\":{}}}},\"subAppName\":\"main\"}</script><script src=\"https://static.zhihu.com/heifetz/vendor.1c14c07589f9cc850a64.js\"></script><script src=\"https://static.zhihu.com/heifetz/main.app.e4f2b31d69c206cc84ce.js\"></script><script src=\"https://static.zhihu.com/heifetz/main.topstory-routes.a524361197be43589f61.js\"></script></body><script src=\"https://hm.baidu.com/hm.js?98beee57fd2ef70ccdd5ca52b9740c49\" async=\"\"></script></html>\n"
    }
   ],
   "source": [
    "\n",
    "# Requests高级用法 --------------------------------------------------------\n",
    "\n",
    "import requests\n",
    "\n",
    "# 上传文件\n",
    "files = {\"files\": open('./favicon.ico', 'rb')}\n",
    "r = requests.post('http://httpbin.org/post', files = files)\n",
    "print(r.text)\n",
    "\n",
    "# Cookies设置\n",
    "\n",
    "r = requests.get(\"http://www.baidu.com\")\n",
    "print(r.cookies)\n",
    "for key, value in r.cookies.items():\n",
    "    print(key + ' = ' + value)\n",
    "\n",
    "headers = {\n",
    "    'Cookie': '_zap=6bad2f35-a188-4c66-a087-c3237ca6e3e0; _xsrf=3fLtxggiQnaCd41gMVjaqMjIRU6hiUMb; d_c0=\"AADkZ0d2fRCPTvwmzecTyHMizED0ae86F2Y=|1576077521\"; tgw_l7_route=ace26f527cbd74fe33dbcdf5e5402f84; Hm_lvt_98beee57fd2ef70ccdd5ca52b9740c49=1576077521,1576339490; capsion_ticket=\"2|1:0|10:1576340113|14:capsion_ticket|44:YTEzNjVkMzIyNjVjNGUyN2JjYmE0YTZjM2UxNzEwZWQ=|f351ee60420c07f4815af9f5e334b53dca1cadd23b69309286727d7ca5937ae0\"; z_c0=\"2|1:0|10:1576340116|4:z_c0|92:Mi4xR3VpdkFBQUFBQUFBQU9SblIzWjlFQ1lBQUFCZ0FsVk5sRmppWGdCbnVSWWgxa2Z5S3NSbnQteDBqTVlrUjJNd3hn|a0b7753cb7ff2c68caa8d63a15473210c05f646c987c00016d938f22f1b427b3\"; Hm_lpvt_98beee57fd2ef70ccdd5ca52b9740c49=1576340121; tst=r',\n",
    "    'Host': 'www.zhihu.com',\n",
    "    'User-Agent': 'Mozilla/5.0 (Windows NT 10.0; Win64; x64) AppleWebKit/537.36 (KHTML, like Gecko) Chrome/78.0.3904.108 Safari/537.36'\n",
    "}\n",
    "r = requests.get('https://www.zhihu.com', headers = headers)\n",
    "print(r.text)"
   ]
  },
  {
   "cell_type": "code",
   "metadata": {},
   "outputs": [],
   "source": []
  }
 ]
}