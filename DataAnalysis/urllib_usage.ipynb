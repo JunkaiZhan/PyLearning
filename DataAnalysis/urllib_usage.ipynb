{
 "nbformat": 4,
 "nbformat_minor": 2,
 "metadata": {
  "language_info": {
   "name": "python",
   "codemirror_mode": {
    "name": "ipython",
    "version": 3
   },
   "version": "3.7.4"
  },
  "orig_nbformat": 2,
  "file_extension": ".py",
  "mimetype": "text/x-python",
  "name": "python",
  "npconvert_exporter": "python",
  "pygments_lexer": "ipython3",
  "version": 3
 },
 "cells": [
  {
   "cell_type": "code",
   "metadata": {},
   "outputs": [],
   "source": [
    "import urllib.request\n",
    "import urllib.parse\n",
    "import socket\n",
    "import traceback"
   ]
  },
  {
   "cell_type": "code",
   "metadata": {},
   "outputs": [],
   "source": [
    "# Get your first web page ---------------------------------------------------------------\n",
    "response = urllib.request.urlopen(\"https://www.python.org\")\n",
    "print(\"The status code of response is >>> \", response.status)\n",
    "print(\"The header of response is >>> \", response.getheaders())\n",
    "print(\"The server of response is >>> \", response.getheader(\"Server\"))"
   ]
  },
  {
   "cell_type": "code",
   "metadata": {},
   "outputs": [],
   "source": [
    "# Request a web page with argument \"data\" ------------------------------------------------\n",
    "encode   = urllib.parse.urlencode({'Name':'Junkai'}) # Transform the dict to string\n",
    "data     = bytes(encode, encoding = 'utf8')          # Transform the string to byte stream\n",
    "response = urllib.request.urlopen(\"http://httpbin.org/post\", data = data)\n",
    "print(\"The encode is >>> \", encode, \">>> and the type of encode is >>> \", type(encode))\n",
    "print(\"The data in utf8 format is >>> \", data, \" >>> and the type of the data is >>> \", type(data))\n",
    "print(\"The response body is >>> \", response.read().decode('utf-8'))"
   ]
  },
  {
   "cell_type": "code",
   "metadata": {},
   "outputs": [],
   "source": [
    "# Request a web page with argument \"timeout\" ---------------------------------------\n",
    "try:\n",
    "    response = urllib.request.urlopen(\"http://httpbin.org/get\", timeout = 0.1)\n",
    "except urllib.error.URLError as err:\n",
    "    if isinstance(err.reason, socket.timeout):\n",
    "        print(\"TIME OUT!!!\")\n",
    "# except Exception as exc:\n",
    "    # print(traceback.format_exc())\n",
    "    # print(\"An exception >>> \", exc)\n"
   ]
  },
  {
   "cell_type": "code",
   "metadata": {},
   "outputs": [],
   "source": [
    "# Request a web page in a advanced way ------------------------------------------------\n",
    "request  = urllib.request.Request('https://www.python.org')\n",
    "response = urllib.request.urlopen(request)\n",
    "print(\"The response is >>> \", response.read().decode('utf-8')) # Every string can be specified decode type"
   ]
  },
  {
   "cell_type": "code",
   "metadata": {},
   "outputs": [],
   "source": [
    "# Request a web page with all the arguments --------------------------------------------\n",
    "url    = \"http://httpbin.org/post\"\n",
    "header = {\n",
    "    'User-Agent': 'Mozilla/4.0 (compatible; MSIE 5.5; Windows NT)',\n",
    "    'Host': 'httpbin.org' \n",
    "}\n",
    "form = {\n",
    "    'name': 'HelloWorld'\n",
    "}\n",
    "data = bytes(urllib.parse.urlencode(form), encoding = 'utf-8')\n",
    "\n",
    "# Method 1\n",
    "# req  = urllib.request.Request(url = url, data = data, headers = header, method = 'POST')\n",
    "\n",
    "# Method 2\n",
    "req = urllib.request.Request(url = url, data = data, method = \"POST\")\n",
    "req.add_header('User-Agent', \"Mozilla/4.0 (compatible; MSIE 5.5; Windows NT)\")\n",
    "\n",
    "response = urllib.request.urlopen(req)\n",
    "print(\"The response is >>> \", response.read().decode('utf-8')) # Every string can be specified decode type"
   ]
  },
  {
   "cell_type": "code",
   "execution_count": 1,
   "metadata": {},
   "outputs": [
    {
     "name": "stdout",
     "output_type": "stream",
     "text": "[WinError 10061] 由于目标计算机积极拒绝，无法连接。\n"
    }
   ],
   "source": [
    "# Request a web page in a more advanced way -------------------------------------------------\n",
    "# 在请求网页的时候，不仅仅是要传递表单或者设置请求header，现在有一个更加高级的配置\n",
    "# 可以用于处理管理认证、代理设置、Cookie处理、重定向、错误异常处理等在请求过程的各种功能\n",
    "# 这时候引入urllib下面的各种handler，来帮助我们实现以上功能\n",
    "\n",
    "# >>>>>>>>>> 认证管理 <<<<<<<\n",
    "from urllib.request import HTTPPasswordMgrWithDefaultRealm, HTTPBasicAuthHandler, build_opener\n",
    "from urllib.error import URLError\n",
    "\n",
    "url      = \"http://localhost:5000/\"\n",
    "username = \"username\"\n",
    "password = \"password\"\n",
    "\n",
    "p = HTTPPasswordMgrWithDefaultRealm()\n",
    "p.add_password(None, url, username, password)\n",
    "auth_handler = HTTPBasicAuthHandler(p)\n",
    "opener = build_opener(auth_handler)\n",
    "\n",
    "try:\n",
    "    result = opener.open(url)\n",
    "    html = result.read().decode('utf-8')\n",
    "    print(html)\n",
    "except URLError as e:\n",
    "    print(e.reason)"
   ]
  },
  {
   "cell_type": "code",
   "execution_count": 2,
   "metadata": {},
   "outputs": [],
   "source": [
    "\n",
    "# >>>>>>>>>> 代理设置 <<<<<<<<\n",
    "from urllib.request import ProxyHandler, build_opener\n",
    "from urllib.error import URLError\n",
    "\n",
    "url = \"https://www.baidu.com\"\n",
    "\n",
    "proxy_config = {\n",
    "    \"http\": \"http://127.0.0.1:9999\",\n",
    "    \"https\": \"https://127.0.0.1:9999\"\n",
    "}\n",
    "proxy_handler = ProxyHandler(proxy_config)\n",
    "opener = build_opener(proxy_handler)\n",
    "\n",
    "try:\n",
    "    result = opener.open(url)\n",
    "    html = result.read().decode('utf-8')\n",
    "    print(html)\n",
    "except URLError as e:\n",
    "    print(e.reason)"
   ]
  },
  {
   "cell_type": "code",
   "execution_count": 3,
   "metadata": {},
   "outputs": [
    {
     "name": "stdout",
     "output_type": "stream",
     "text": "BAIDUID = AB458A2CD0FE60050169C3EBDF9ED36B:FG=1\nBIDUPSID = AB458A2CD0FE6005EB4C3E5413BE02F5\nPSTM = 1575738590\nBD_NOT_HTTPS = 1\n"
    }
   ],
   "source": [
    "\n",
    "# >>>>>>>>>> Cookie处理 <<<<<<<<\n",
    "from urllib.request import build_opener\n",
    "import urllib.request\n",
    "import http.cookiejar\n",
    "\n",
    "cookie  = http.cookiejar.CookieJar()\n",
    "handler = urllib.request.HTTPCookieProcessor(cookie)\n",
    "opener  = build_opener(handler)\n",
    "\n",
    "try:\n",
    "    result = opener.open(\"https://www.baidu.com\")\n",
    "    for item in cookie:\n",
    "        print(item.name + \" = \" + item.value)\n",
    "except URLError as e:\n",
    "    print(e.reason)\n",
    "\n"
   ]
  },
  {
   "cell_type": "code",
   "execution_count": null,
   "metadata": {},
   "outputs": [],
   "source": []
  }
 ]
}