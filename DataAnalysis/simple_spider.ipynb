{
 "nbformat": 4,
 "nbformat_minor": 2,
 "metadata": {
  "language_info": {
   "name": "python",
   "codemirror_mode": {
    "name": "ipython",
    "version": 3
   },
   "version": "3.7.4"
  },
  "orig_nbformat": 2,
  "file_extension": ".py",
  "mimetype": "text/x-python",
  "name": "python",
  "npconvert_exporter": "python",
  "pygments_lexer": "ipython3",
  "version": 3
 },
 "cells": [
  {
   "cell_type": "code",
   "execution_count": 11,
   "metadata": {},
   "outputs": [],
   "source": [
    "import requests\n",
    "import pandas as pd\n",
    "import time\n",
    "from bs4 import BeautifulSoup"
   ]
  },
  {
   "cell_type": "code",
   "execution_count": 22,
   "metadata": {},
   "outputs": [],
   "source": [
    "def get_urls(n):\n",
    "    \n",
    "    urls = []\n",
    "    for i in range(1, n+1):\n",
    "        url = \"http://travel.qunar.com/p-cs299878-shanghai-jingdian-1-%s\" % i\n",
    "        urls.append(url)\n",
    "    return urls\n",
    "\n",
    "\n",
    "def get_data(url):\n",
    "\n",
    "    # Request the html from network\n",
    "    rsp = requests.get(url)\n",
    "\n",
    "    # Parse the html text in lxml style\n",
    "    soup = BeautifulSoup(rsp.text, \"lxml\")\n",
    "\n",
    "    # Find the ul list from soup\n",
    "    ul = soup.find('ul', class_=\"list_item clrfix\")\n",
    "    li = ul.find_all('li')\n",
    "\n",
    "    datalist = []\n",
    "    for _ in li:\n",
    "        dic = {}\n",
    "        dic['lng'] = _['data-lng']\n",
    "        dic['lat'] = _['data-lat']\n",
    "        dic['name'] = _.find('span', class_ = 'cn_tit').text\n",
    "        dic['star'] = _.find('span', class_ = 'cur_star')['style'].split(':')[1].replace(\"%\",'')\n",
    "        datalist.append(dic)\n",
    "\n",
    "    return datalist\n",
    "    \n",
    "\n",
    "def get_alldata(n):\n",
    "\n",
    "    alldata = []\n",
    "\n",
    "    for url in get_urls(n):\n",
    "        \n",
    "        # time.sleep(1.0)\n",
    "        alldata.extend(get_data(url))\n",
    "\n",
    "    return alldata"
   ]
  },
  {
   "cell_type": "markdown",
   "execution_count": 25,
   "metadata": {},
   "outputs": [],
   "source": [
    "df = pd.DataFrame(get_alldata(10))"
   ]
  },
  {
   "cell_type": "code",
   "execution_count": null,
   "metadata": {},
   "outputs": [],
   "source": []
  }
 ]
}