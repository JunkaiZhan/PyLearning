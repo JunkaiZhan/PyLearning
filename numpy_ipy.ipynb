{
 "nbformat": 4,
 "nbformat_minor": 2,
 "metadata": {
  "language_info": {
   "name": "python",
   "codemirror_mode": {
    "name": "ipython",
    "version": 3
   }
  },
  "orig_nbformat": 2,
  "file_extension": ".py",
  "mimetype": "text/x-python",
  "name": "python",
  "npconvert_exporter": "python",
  "pygments_lexer": "ipython3",
  "version": 3
 },
 "cells": [
  {
   "cell_type": "code",
   "execution_count": 1,
   "metadata": {},
   "outputs": [
    {
     "name": "stdout",
     "output_type": "stream",
     "text": "<class 'numpy.ndarray'>  :  [ 0  1  2  3  4  5  6  7  8  9 10 11 12 13 14 15 16 17 18 19]\n"
    }
   ],
   "source": [
    "import numpy as np\n",
    "\n",
    "# Create the ndarray\n",
    "a = np.arange(20)\n",
    "print(type(a), \" : \", a)"
   ]
  },
  {
   "cell_type": "code",
   "execution_count": 2,
   "metadata": {},
   "outputs": [
    {
     "name": "stdout",
     "output_type": "stream",
     "text": "<class 'numpy.ndarray'>  : \n [[[ 0  1  2  3  4]\n  [ 5  6  7  8  9]]\n\n [[10 11 12 13 14]\n  [15 16 17 18 19]]]\n"
    }
   ],
   "source": [
    "# method: Reshape the ndarray\n",
    "a = a.reshape(2, 2, 5)\n",
    "print(type(a), \" : \\n\", a)"
   ]
  },
  {
   "cell_type": "code",
   "execution_count": 3,
   "metadata": {},
   "outputs": [
    {
     "name": "stdout",
     "output_type": "stream",
     "text": "a.ndim:  3\na.shape:  (2, 2, 5)\na.size:  20\na.dtype:  int32\n"
    }
   ],
   "source": [
    "# member: ndim shape size and dtype\n",
    "print(\"a.ndim: \", a.ndim)\n",
    "print(\"a.shape: \", a.shape)\n",
    "print(\"a.size: \", a.size)\n",
    "print(\"a.dtype: \", a.dtype)"
   ]
  },
  {
   "cell_type": "code",
   "execution_count": 4,
   "metadata": {},
   "outputs": [
    {
     "name": "stdout",
     "output_type": "stream",
     "text": "<class 'numpy.ndarray'>  : \n [[0 1 2 3 4]\n [5 6 7 8 9]]\n"
    }
   ],
   "source": [
    "# Create the array\n",
    "raw = [[0, 1, 2, 3, 4], [5, 6, 7, 8, 9]]\n",
    "a = np.array(raw)\n",
    "print(type(a), \" : \\n\", a)"
   ]
  },
  {
   "cell_type": "code",
   "execution_count": 7,
   "metadata": {},
   "outputs": [
    {
     "name": "stdout",
     "output_type": "stream",
     "text": "<class 'tuple'> \n [[0. 0. 0. 0. 0.]\n [0. 0. 0. 0. 0.]\n [0. 0. 0. 0. 0.]\n [0. 0. 0. 0. 0.]]\n"
    }
   ],
   "source": [
    "# Specified dim zeros\n",
    "d = (4, 5)\n",
    "print(type(d), \"\\n\", np.zeros(d))"
   ]
  },
  {
   "cell_type": "code",
   "execution_count": 5,
   "metadata": {},
   "outputs": [
    {
     "data": {
      "text/plain": "array([0.09092864, 0.78701795, 0.82279413, 0.49577066, 0.87923136])"
     },
     "execution_count": 5,
     "metadata": {},
     "output_type": "execute_result"
    }
   ],
   "source": [
    "# Specified dim rand\n",
    "np.random.rand(5)\n"
   ]
  },
  {
   "cell_type": "code",
   "execution_count": null,
   "metadata": {},
   "outputs": [],
   "source": []
  }
 ]
}